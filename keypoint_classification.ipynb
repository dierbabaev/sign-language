{
 "cells": [
  {
   "cell_type": "code",
   "execution_count": 1,
   "metadata": {
    "id": "igMyGnjE9hEp"
   },
   "outputs": [],
   "source": [
    "import csv\n",
    "\n",
    "import numpy as np\n",
    "import tensorflow as tf\n",
    "from sklearn.model_selection import train_test_split\n",
    "\n",
    "RANDOM_SEED = 42"
   ]
  },
  {
   "cell_type": "markdown",
   "metadata": {
    "id": "t2HDvhIu9hEr"
   },
   "source": [
    "# Specify each path"
   ]
  },
  {
   "cell_type": "code",
   "execution_count": 2,
   "metadata": {
    "id": "9NvZP2Zn9hEy"
   },
   "outputs": [],
   "source": [
    "dataset = 'model/keypoint_classifier/keypoint.csv'\n",
    "model_save_path = 'model/keypoint_classifier/keypoint_classifier.hdf5'\n",
    "tflite_save_path = 'model/keypoint_classifier/keypoint_classifier.tflite'"
   ]
  },
  {
   "cell_type": "markdown",
   "metadata": {
    "id": "s5oMH7x19hEz"
   },
   "source": [
    "# Set number of classes"
   ]
  },
  {
   "cell_type": "code",
   "execution_count": 3,
   "metadata": {
    "id": "du4kodXL9hEz"
   },
   "outputs": [],
   "source": [
    "NUM_CLASSES = 28"
   ]
  },
  {
   "cell_type": "markdown",
   "metadata": {
    "id": "XjnL0uso9hEz"
   },
   "source": [
    "# Dataset reading"
   ]
  },
  {
   "cell_type": "code",
   "execution_count": 4,
   "metadata": {
    "id": "QT5ZqtEz9hE0"
   },
   "outputs": [],
   "source": [
    "X_dataset = np.loadtxt(dataset, delimiter=',', dtype='float32', usecols=list(range(1, (21 * 2) + 1)))"
   ]
  },
  {
   "cell_type": "code",
   "execution_count": 5,
   "metadata": {
    "id": "QmoKFsp49hE0"
   },
   "outputs": [],
   "source": [
    "y_dataset = np.loadtxt(dataset, delimiter=',', dtype='int32', usecols=(0))"
   ]
  },
  {
   "cell_type": "code",
   "execution_count": 6,
   "metadata": {
    "id": "xQU7JTZ_9hE0"
   },
   "outputs": [],
   "source": [
    "X_train, X_test, y_train, y_test = train_test_split(X_dataset, y_dataset, train_size=0.75, random_state=RANDOM_SEED)"
   ]
  },
  {
   "cell_type": "markdown",
   "metadata": {
    "id": "mxK_lETT9hE0"
   },
   "source": [
    "# Model building"
   ]
  },
  {
   "cell_type": "code",
   "execution_count": 7,
   "metadata": {
    "id": "vHBmUf1t9hE1"
   },
   "outputs": [],
   "source": [
    "model = tf.keras.models.Sequential([\n",
    "    tf.keras.layers.Input((21 * 2, )),\n",
    "    tf.keras.layers.Dropout(0.2),\n",
    "    tf.keras.layers.Dense(20, activation='relu'),\n",
    "    tf.keras.layers.Dropout(0.4),\n",
    "    tf.keras.layers.Dense(10, activation='relu'),\n",
    "    tf.keras.layers.Dense(NUM_CLASSES, activation='softmax')\n",
    "])"
   ]
  },
  {
   "cell_type": "code",
   "execution_count": 8,
   "metadata": {
    "colab": {
     "base_uri": "https://localhost:8080/"
    },
    "id": "ypqky9tc9hE1",
    "outputId": "5db082bb-30e3-4110-bf63-a1ee777ecd46"
   },
   "outputs": [
    {
     "name": "stdout",
     "output_type": "stream",
     "text": [
      "Model: \"sequential\"\n",
      "_________________________________________________________________\n",
      " Layer (type)                Output Shape              Param #   \n",
      "=================================================================\n",
      " dropout (Dropout)           (None, 42)                0         \n",
      "                                                                 \n",
      " dense (Dense)               (None, 20)                860       \n",
      "                                                                 \n",
      " dropout_1 (Dropout)         (None, 20)                0         \n",
      "                                                                 \n",
      " dense_1 (Dense)             (None, 10)                210       \n",
      "                                                                 \n",
      " dense_2 (Dense)             (None, 28)                308       \n",
      "                                                                 \n",
      "=================================================================\n",
      "Total params: 1,378\n",
      "Trainable params: 1,378\n",
      "Non-trainable params: 0\n",
      "_________________________________________________________________\n"
     ]
    }
   ],
   "source": [
    "model.summary()  # tf.keras.utils.plot_model(model, show_shapes=True)"
   ]
  },
  {
   "cell_type": "code",
   "execution_count": 9,
   "metadata": {
    "id": "MbMjOflQ9hE1"
   },
   "outputs": [],
   "source": [
    "# Model checkpoint callback\n",
    "cp_callback = tf.keras.callbacks.ModelCheckpoint(\n",
    "    model_save_path, verbose=1, save_weights_only=False)\n",
    "# Callback for early stopping\n",
    "es_callback = tf.keras.callbacks.EarlyStopping(patience=20, verbose=1)"
   ]
  },
  {
   "cell_type": "code",
   "execution_count": 10,
   "metadata": {
    "id": "c3Dac0M_9hE2"
   },
   "outputs": [],
   "source": [
    "# Model compilation\n",
    "model.compile(\n",
    "    optimizer='adam',\n",
    "    loss='sparse_categorical_crossentropy',\n",
    "    metrics=['accuracy']\n",
    ")"
   ]
  },
  {
   "cell_type": "markdown",
   "metadata": {
    "id": "7XI0j1Iu9hE2"
   },
   "source": [
    "# Model training"
   ]
  },
  {
   "cell_type": "code",
   "execution_count": null,
   "metadata": {
    "colab": {
     "base_uri": "https://localhost:8080/"
    },
    "id": "WirBl-JE9hE3",
    "outputId": "71b30ca2-8294-4d9d-8aa2-800d90d399de",
    "scrolled": true
   },
   "outputs": [
    {
     "name": "stdout",
     "output_type": "stream",
     "text": [
      "Epoch 1/1000\n",
      "198/215 [==========================>...] - ETA: 0s - loss: 3.1832 - accuracy: 0.0847\n",
      "Epoch 1: saving model to model/keypoint_classifier\\keypoint_classifier.hdf5\n",
      "215/215 [==============================] - 1s 4ms/step - loss: 3.1607 - accuracy: 0.0893 - val_loss: 2.7663 - val_accuracy: 0.1564\n",
      "Epoch 2/1000\n",
      "215/215 [==============================] - ETA: 0s - loss: 2.5947 - accuracy: 0.1981\n",
      "Epoch 2: saving model to model/keypoint_classifier\\keypoint_classifier.hdf5\n",
      "215/215 [==============================] - 1s 3ms/step - loss: 2.5947 - accuracy: 0.1981 - val_loss: 2.0886 - val_accuracy: 0.4064\n",
      "Epoch 3/1000\n",
      "208/215 [============================>.] - ETA: 0s - loss: 2.2014 - accuracy: 0.2915\n",
      "Epoch 3: saving model to model/keypoint_classifier\\keypoint_classifier.hdf5\n",
      "215/215 [==============================] - 1s 5ms/step - loss: 2.1961 - accuracy: 0.2935 - val_loss: 1.6589 - val_accuracy: 0.5759\n",
      "Epoch 4/1000\n",
      "213/215 [============================>.] - ETA: 0s - loss: 1.9665 - accuracy: 0.3592\n",
      "Epoch 4: saving model to model/keypoint_classifier\\keypoint_classifier.hdf5\n",
      "215/215 [==============================] - 2s 8ms/step - loss: 1.9657 - accuracy: 0.3597 - val_loss: 1.4225 - val_accuracy: 0.6430\n",
      "Epoch 5/1000\n",
      "208/215 [============================>.] - ETA: 0s - loss: 1.8431 - accuracy: 0.3918\n",
      "Epoch 5: saving model to model/keypoint_classifier\\keypoint_classifier.hdf5\n",
      "215/215 [==============================] - 2s 7ms/step - loss: 1.8417 - accuracy: 0.3928 - val_loss: 1.3020 - val_accuracy: 0.7317\n",
      "Epoch 6/1000\n",
      "208/215 [============================>.] - ETA: 0s - loss: 1.7780 - accuracy: 0.4108\n",
      "Epoch 6: saving model to model/keypoint_classifier\\keypoint_classifier.hdf5\n",
      "215/215 [==============================] - 1s 5ms/step - loss: 1.7757 - accuracy: 0.4118 - val_loss: 1.2135 - val_accuracy: 0.7130\n",
      "Epoch 7/1000\n",
      "213/215 [============================>.] - ETA: 0s - loss: 1.7048 - accuracy: 0.4328\n",
      "Epoch 7: saving model to model/keypoint_classifier\\keypoint_classifier.hdf5\n",
      "215/215 [==============================] - 2s 7ms/step - loss: 1.7032 - accuracy: 0.4335 - val_loss: 1.1434 - val_accuracy: 0.7368\n",
      "Epoch 8/1000\n",
      "211/215 [============================>.] - ETA: 0s - loss: 1.6670 - accuracy: 0.4457\n",
      "Epoch 8: saving model to model/keypoint_classifier\\keypoint_classifier.hdf5\n",
      "215/215 [==============================] - 1s 7ms/step - loss: 1.6653 - accuracy: 0.4463 - val_loss: 1.0908 - val_accuracy: 0.8096\n",
      "Epoch 9/1000\n",
      "209/215 [============================>.] - ETA: 0s - loss: 1.6230 - accuracy: 0.4560\n",
      "Epoch 9: saving model to model/keypoint_classifier\\keypoint_classifier.hdf5\n",
      "215/215 [==============================] - 2s 7ms/step - loss: 1.6208 - accuracy: 0.4561 - val_loss: 1.0454 - val_accuracy: 0.7891\n",
      "Epoch 10/1000\n",
      "211/215 [============================>.] - ETA: 0s - loss: 1.6042 - accuracy: 0.4610\n",
      "Epoch 10: saving model to model/keypoint_classifier\\keypoint_classifier.hdf5\n",
      "215/215 [==============================] - 1s 7ms/step - loss: 1.6038 - accuracy: 0.4604 - val_loss: 1.0088 - val_accuracy: 0.8252\n",
      "Epoch 11/1000\n",
      "211/215 [============================>.] - ETA: 0s - loss: 1.5712 - accuracy: 0.4772\n",
      "Epoch 11: saving model to model/keypoint_classifier\\keypoint_classifier.hdf5\n",
      "215/215 [==============================] - 2s 8ms/step - loss: 1.5715 - accuracy: 0.4764 - val_loss: 0.9801 - val_accuracy: 0.8071\n",
      "Epoch 12/1000\n",
      "211/215 [============================>.] - ETA: 0s - loss: 1.5412 - accuracy: 0.4879\n",
      "Epoch 12: saving model to model/keypoint_classifier\\keypoint_classifier.hdf5\n",
      "215/215 [==============================] - 2s 8ms/step - loss: 1.5418 - accuracy: 0.4874 - val_loss: 0.9482 - val_accuracy: 0.8185\n",
      "Epoch 13/1000\n",
      "206/215 [===========================>..] - ETA: 0s - loss: 1.5102 - accuracy: 0.4959\n",
      "Epoch 13: saving model to model/keypoint_classifier\\keypoint_classifier.hdf5\n",
      "215/215 [==============================] - 2s 7ms/step - loss: 1.5117 - accuracy: 0.4956 - val_loss: 0.9076 - val_accuracy: 0.8293\n",
      "Epoch 14/1000\n",
      "208/215 [============================>.] - ETA: 0s - loss: 1.5089 - accuracy: 0.4985\n",
      "Epoch 14: saving model to model/keypoint_classifier\\keypoint_classifier.hdf5\n",
      "215/215 [==============================] - 1s 7ms/step - loss: 1.5075 - accuracy: 0.4981 - val_loss: 0.8862 - val_accuracy: 0.8096\n",
      "Epoch 15/1000\n",
      "213/215 [============================>.] - ETA: 0s - loss: 1.4811 - accuracy: 0.5059\n",
      "Epoch 15: saving model to model/keypoint_classifier\\keypoint_classifier.hdf5\n",
      "215/215 [==============================] - 2s 7ms/step - loss: 1.4806 - accuracy: 0.5057 - val_loss: 0.8646 - val_accuracy: 0.8359\n",
      "Epoch 16/1000\n",
      "215/215 [==============================] - ETA: 0s - loss: 1.4572 - accuracy: 0.5104\n",
      "Epoch 16: saving model to model/keypoint_classifier\\keypoint_classifier.hdf5\n",
      "215/215 [==============================] - 2s 7ms/step - loss: 1.4572 - accuracy: 0.5104 - val_loss: 0.8392 - val_accuracy: 0.8389\n",
      "Epoch 17/1000\n",
      "210/215 [============================>.] - ETA: 0s - loss: 1.4431 - accuracy: 0.5155\n",
      "Epoch 17: saving model to model/keypoint_classifier\\keypoint_classifier.hdf5\n",
      "215/215 [==============================] - 1s 7ms/step - loss: 1.4424 - accuracy: 0.5162 - val_loss: 0.8383 - val_accuracy: 0.8401\n",
      "Epoch 18/1000\n",
      "215/215 [==============================] - ETA: 0s - loss: 1.4302 - accuracy: 0.5252\n",
      "Epoch 18: saving model to model/keypoint_classifier\\keypoint_classifier.hdf5\n",
      "215/215 [==============================] - 2s 7ms/step - loss: 1.4302 - accuracy: 0.5252 - val_loss: 0.8220 - val_accuracy: 0.8370\n",
      "Epoch 19/1000\n",
      "213/215 [============================>.] - ETA: 0s - loss: 1.4184 - accuracy: 0.5279\n",
      "Epoch 19: saving model to model/keypoint_classifier\\keypoint_classifier.hdf5\n",
      "215/215 [==============================] - 2s 7ms/step - loss: 1.4175 - accuracy: 0.5282 - val_loss: 0.7932 - val_accuracy: 0.8424\n",
      "Epoch 20/1000\n",
      "208/215 [============================>.] - ETA: 0s - loss: 1.3976 - accuracy: 0.5294\n",
      "Epoch 20: saving model to model/keypoint_classifier\\keypoint_classifier.hdf5\n",
      "215/215 [==============================] - 1s 7ms/step - loss: 1.4005 - accuracy: 0.5295 - val_loss: 0.7923 - val_accuracy: 0.8561\n",
      "Epoch 21/1000\n",
      "206/215 [===========================>..] - ETA: 0s - loss: 1.3856 - accuracy: 0.5387\n",
      "Epoch 21: saving model to model/keypoint_classifier\\keypoint_classifier.hdf5\n",
      "215/215 [==============================] - 2s 7ms/step - loss: 1.3825 - accuracy: 0.5398 - val_loss: 0.7665 - val_accuracy: 0.8619\n",
      "Epoch 22/1000\n",
      "207/215 [===========================>..] - ETA: 0s - loss: 1.3843 - accuracy: 0.5357\n",
      "Epoch 22: saving model to model/keypoint_classifier\\keypoint_classifier.hdf5\n",
      "215/215 [==============================] - 2s 7ms/step - loss: 1.3849 - accuracy: 0.5353 - val_loss: 0.7718 - val_accuracy: 0.8697\n",
      "Epoch 23/1000\n",
      "207/215 [===========================>..] - ETA: 0s - loss: 1.3652 - accuracy: 0.5420\n",
      "Epoch 23: saving model to model/keypoint_classifier\\keypoint_classifier.hdf5\n",
      "215/215 [==============================] - 2s 7ms/step - loss: 1.3660 - accuracy: 0.5422 - val_loss: 0.7567 - val_accuracy: 0.8725\n",
      "Epoch 24/1000\n",
      "207/215 [===========================>..] - ETA: 0s - loss: 1.3596 - accuracy: 0.5448\n",
      "Epoch 24: saving model to model/keypoint_classifier\\keypoint_classifier.hdf5\n",
      "215/215 [==============================] - 2s 7ms/step - loss: 1.3580 - accuracy: 0.5455 - val_loss: 0.7576 - val_accuracy: 0.8696\n",
      "Epoch 25/1000\n",
      "215/215 [==============================] - ETA: 0s - loss: 1.3541 - accuracy: 0.5442\n",
      "Epoch 25: saving model to model/keypoint_classifier\\keypoint_classifier.hdf5\n",
      "215/215 [==============================] - 2s 8ms/step - loss: 1.3541 - accuracy: 0.5442 - val_loss: 0.7510 - val_accuracy: 0.8624\n",
      "Epoch 26/1000\n",
      "206/215 [===========================>..] - ETA: 0s - loss: 1.3364 - accuracy: 0.5522\n",
      "Epoch 26: saving model to model/keypoint_classifier\\keypoint_classifier.hdf5\n",
      "215/215 [==============================] - 2s 7ms/step - loss: 1.3330 - accuracy: 0.5538 - val_loss: 0.7347 - val_accuracy: 0.8477\n",
      "Epoch 27/1000\n",
      "208/215 [============================>.] - ETA: 0s - loss: 1.3274 - accuracy: 0.5533\n",
      "Epoch 27: saving model to model/keypoint_classifier\\keypoint_classifier.hdf5\n",
      "215/215 [==============================] - 2s 7ms/step - loss: 1.3255 - accuracy: 0.5542 - val_loss: 0.7285 - val_accuracy: 0.8694\n"
     ]
    },
    {
     "name": "stdout",
     "output_type": "stream",
     "text": [
      "Epoch 28/1000\n",
      "215/215 [==============================] - ETA: 0s - loss: 1.3171 - accuracy: 0.5581\n",
      "Epoch 28: saving model to model/keypoint_classifier\\keypoint_classifier.hdf5\n",
      "215/215 [==============================] - 2s 8ms/step - loss: 1.3171 - accuracy: 0.5581 - val_loss: 0.7300 - val_accuracy: 0.8544\n",
      "Epoch 29/1000\n",
      "210/215 [============================>.] - ETA: 0s - loss: 1.3075 - accuracy: 0.5622\n",
      "Epoch 29: saving model to model/keypoint_classifier\\keypoint_classifier.hdf5\n",
      "215/215 [==============================] - 2s 8ms/step - loss: 1.3060 - accuracy: 0.5626 - val_loss: 0.7187 - val_accuracy: 0.8593\n",
      "Epoch 30/1000\n",
      "208/215 [============================>.] - ETA: 0s - loss: 1.3065 - accuracy: 0.5629\n",
      "Epoch 30: saving model to model/keypoint_classifier\\keypoint_classifier.hdf5\n",
      "215/215 [==============================] - 2s 8ms/step - loss: 1.3057 - accuracy: 0.5634 - val_loss: 0.7184 - val_accuracy: 0.8466\n",
      "Epoch 31/1000\n",
      "214/215 [============================>.] - ETA: 0s - loss: 1.2924 - accuracy: 0.5685\n",
      "Epoch 31: saving model to model/keypoint_classifier\\keypoint_classifier.hdf5\n",
      "215/215 [==============================] - 2s 8ms/step - loss: 1.2927 - accuracy: 0.5684 - val_loss: 0.7084 - val_accuracy: 0.8726\n",
      "Epoch 32/1000\n",
      "208/215 [============================>.] - ETA: 0s - loss: 1.2897 - accuracy: 0.5669\n",
      "Epoch 32: saving model to model/keypoint_classifier\\keypoint_classifier.hdf5\n",
      "215/215 [==============================] - 2s 8ms/step - loss: 1.2912 - accuracy: 0.5662 - val_loss: 0.7041 - val_accuracy: 0.8585\n",
      "Epoch 33/1000\n",
      "208/215 [============================>.] - ETA: 0s - loss: 1.2794 - accuracy: 0.5708\n",
      "Epoch 33: saving model to model/keypoint_classifier\\keypoint_classifier.hdf5\n",
      "215/215 [==============================] - 2s 8ms/step - loss: 1.2779 - accuracy: 0.5716 - val_loss: 0.6956 - val_accuracy: 0.8605\n",
      "Epoch 34/1000\n",
      "212/215 [============================>.] - ETA: 0s - loss: 1.2728 - accuracy: 0.5729\n",
      "Epoch 34: saving model to model/keypoint_classifier\\keypoint_classifier.hdf5\n",
      "215/215 [==============================] - 2s 8ms/step - loss: 1.2723 - accuracy: 0.5731 - val_loss: 0.6958 - val_accuracy: 0.8731\n",
      "Epoch 35/1000\n",
      "215/215 [==============================] - ETA: 0s - loss: 1.2742 - accuracy: 0.5754\n",
      "Epoch 35: saving model to model/keypoint_classifier\\keypoint_classifier.hdf5\n",
      "215/215 [==============================] - 2s 8ms/step - loss: 1.2742 - accuracy: 0.5754 - val_loss: 0.7132 - val_accuracy: 0.8549\n",
      "Epoch 36/1000\n",
      "210/215 [============================>.] - ETA: 0s - loss: 1.2705 - accuracy: 0.5762\n",
      "Epoch 36: saving model to model/keypoint_classifier\\keypoint_classifier.hdf5\n",
      "215/215 [==============================] - 2s 8ms/step - loss: 1.2691 - accuracy: 0.5767 - val_loss: 0.6988 - val_accuracy: 0.8333\n",
      "Epoch 37/1000\n",
      "210/215 [============================>.] - ETA: 0s - loss: 1.2734 - accuracy: 0.5763\n",
      "Epoch 37: saving model to model/keypoint_classifier\\keypoint_classifier.hdf5\n",
      "215/215 [==============================] - 2s 7ms/step - loss: 1.2730 - accuracy: 0.5762 - val_loss: 0.6954 - val_accuracy: 0.8585\n",
      "Epoch 38/1000\n",
      "210/215 [============================>.] - ETA: 0s - loss: 1.2537 - accuracy: 0.5816\n",
      "Epoch 38: saving model to model/keypoint_classifier\\keypoint_classifier.hdf5\n",
      "215/215 [==============================] - 2s 8ms/step - loss: 1.2523 - accuracy: 0.5818 - val_loss: 0.6842 - val_accuracy: 0.8689\n",
      "Epoch 39/1000\n",
      "209/215 [============================>.] - ETA: 0s - loss: 1.2488 - accuracy: 0.5822\n",
      "Epoch 39: saving model to model/keypoint_classifier\\keypoint_classifier.hdf5\n",
      "215/215 [==============================] - 1s 7ms/step - loss: 1.2471 - accuracy: 0.5830 - val_loss: 0.6735 - val_accuracy: 0.8489\n",
      "Epoch 40/1000\n",
      "212/215 [============================>.] - ETA: 0s - loss: 1.2477 - accuracy: 0.5827\n",
      "Epoch 40: saving model to model/keypoint_classifier\\keypoint_classifier.hdf5\n",
      "215/215 [==============================] - 2s 8ms/step - loss: 1.2482 - accuracy: 0.5827 - val_loss: 0.6947 - val_accuracy: 0.8315\n",
      "Epoch 41/1000\n",
      "208/215 [============================>.] - ETA: 0s - loss: 1.2466 - accuracy: 0.5827\n",
      "Epoch 41: saving model to model/keypoint_classifier\\keypoint_classifier.hdf5\n",
      "215/215 [==============================] - 1s 7ms/step - loss: 1.2472 - accuracy: 0.5824 - val_loss: 0.6915 - val_accuracy: 0.8480\n",
      "Epoch 42/1000\n",
      "209/215 [============================>.] - ETA: 0s - loss: 1.2421 - accuracy: 0.5816\n",
      "Epoch 42: saving model to model/keypoint_classifier\\keypoint_classifier.hdf5\n",
      "215/215 [==============================] - 1s 7ms/step - loss: 1.2410 - accuracy: 0.5818 - val_loss: 0.6706 - val_accuracy: 0.8577\n",
      "Epoch 43/1000\n",
      "214/215 [============================>.] - ETA: 0s - loss: 1.2279 - accuracy: 0.5861\n",
      "Epoch 43: saving model to model/keypoint_classifier\\keypoint_classifier.hdf5\n",
      "215/215 [==============================] - 2s 7ms/step - loss: 1.2275 - accuracy: 0.5863 - val_loss: 0.6764 - val_accuracy: 0.8308\n",
      "Epoch 44/1000\n",
      "211/215 [============================>.] - ETA: 0s - loss: 1.2306 - accuracy: 0.5851\n",
      "Epoch 44: saving model to model/keypoint_classifier\\keypoint_classifier.hdf5\n",
      "215/215 [==============================] - 2s 8ms/step - loss: 1.2297 - accuracy: 0.5851 - val_loss: 0.6756 - val_accuracy: 0.8203\n",
      "Epoch 45/1000\n",
      "214/215 [============================>.] - ETA: 0s - loss: 1.2250 - accuracy: 0.5872\n",
      "Epoch 45: saving model to model/keypoint_classifier\\keypoint_classifier.hdf5\n",
      "215/215 [==============================] - 2s 8ms/step - loss: 1.2242 - accuracy: 0.5875 - val_loss: 0.6766 - val_accuracy: 0.8425\n",
      "Epoch 46/1000\n",
      "209/215 [============================>.] - ETA: 0s - loss: 1.2115 - accuracy: 0.5907\n",
      "Epoch 46: saving model to model/keypoint_classifier\\keypoint_classifier.hdf5\n",
      "215/215 [==============================] - 2s 8ms/step - loss: 1.2129 - accuracy: 0.5896 - val_loss: 0.6750 - val_accuracy: 0.8265\n",
      "Epoch 47/1000\n",
      "209/215 [============================>.] - ETA: 0s - loss: 1.2186 - accuracy: 0.5902\n",
      "Epoch 47: saving model to model/keypoint_classifier\\keypoint_classifier.hdf5\n",
      "215/215 [==============================] - 2s 7ms/step - loss: 1.2186 - accuracy: 0.5899 - val_loss: 0.6650 - val_accuracy: 0.8723\n",
      "Epoch 48/1000\n",
      "215/215 [==============================] - ETA: 0s - loss: 1.2221 - accuracy: 0.5927\n",
      "Epoch 48: saving model to model/keypoint_classifier\\keypoint_classifier.hdf5\n",
      "215/215 [==============================] - 2s 8ms/step - loss: 1.2221 - accuracy: 0.5927 - val_loss: 0.6645 - val_accuracy: 0.8506\n",
      "Epoch 49/1000\n",
      "213/215 [============================>.] - ETA: 0s - loss: 1.2150 - accuracy: 0.5926\n",
      "Epoch 49: saving model to model/keypoint_classifier\\keypoint_classifier.hdf5\n",
      "215/215 [==============================] - 2s 7ms/step - loss: 1.2147 - accuracy: 0.5925 - val_loss: 0.6664 - val_accuracy: 0.8649\n",
      "Epoch 50/1000\n",
      "208/215 [============================>.] - ETA: 0s - loss: 1.2167 - accuracy: 0.5904\n",
      "Epoch 50: saving model to model/keypoint_classifier\\keypoint_classifier.hdf5\n",
      "215/215 [==============================] - 2s 7ms/step - loss: 1.2164 - accuracy: 0.5903 - val_loss: 0.6545 - val_accuracy: 0.8730\n",
      "Epoch 51/1000\n",
      "208/215 [============================>.] - ETA: 0s - loss: 1.2113 - accuracy: 0.5883"
     ]
    }
   ],
   "source": [
    "model.fit(\n",
    "    X_train,\n",
    "    y_train,\n",
    "    epochs = 1000,\n",
    "    batch_size = 128,\n",
    "    validation_data = (X_test, y_test),\n",
    "    callbacks = [cp_callback, es_callback]\n",
    ")"
   ]
  },
  {
   "cell_type": "code",
   "execution_count": 34,
   "metadata": {
    "colab": {
     "base_uri": "https://localhost:8080/"
    },
    "id": "pxvb2Y299hE3",
    "outputId": "59eb3185-2e37-4b9e-bc9d-ab1b8ac29b7f"
   },
   "outputs": [
    {
     "name": "stdout",
     "output_type": "stream",
     "text": [
      "68/68 [==============================] - 0s 2ms/step - loss: 0.6385 - accuracy: 0.8483\n"
     ]
    }
   ],
   "source": [
    "# Model evaluation\n",
    "val_loss, val_acc = model.evaluate(X_test, y_test, batch_size=128)"
   ]
  },
  {
   "cell_type": "code",
   "execution_count": 35,
   "metadata": {
    "id": "RBkmDeUW9hE4"
   },
   "outputs": [],
   "source": [
    "# Loading the saved model\n",
    "model = tf.keras.models.load_model(model_save_path)"
   ]
  },
  {
   "cell_type": "code",
   "execution_count": 36,
   "metadata": {
    "colab": {
     "base_uri": "https://localhost:8080/"
    },
    "id": "tFz9Tb0I9hE4",
    "outputId": "1c3b3528-54ae-4ee2-ab04-77429211cbef"
   },
   "outputs": [
    {
     "name": "stdout",
     "output_type": "stream",
     "text": [
      "[3.4624138e-06 2.5575629e-01 1.3625746e-03 3.4193648e-04 5.2143070e-03\n",
      " 7.6997191e-02 1.4419201e-05 1.7421678e-05 4.0837263e-06 1.8020342e-05\n",
      " 2.1795934e-06 1.7321150e-09 3.7421918e-04 9.3951367e-06 3.8384722e-04\n",
      " 2.4050732e-06 1.7677351e-04 7.9388404e-03 2.5900695e-04 8.0663948e-11\n",
      " 2.5024600e-04 4.4917265e-06 6.5085697e-01 1.1915115e-05 5.3343130e-09\n",
      " 2.1995243e-08]\n",
      "22\n"
     ]
    }
   ],
   "source": [
    "# Inference test\n",
    "predict_result = model.predict(np.array([X_test[0]]))\n",
    "print(np.squeeze(predict_result))\n",
    "print(np.argmax(np.squeeze(predict_result)))"
   ]
  },
  {
   "cell_type": "markdown",
   "metadata": {
    "id": "S3U4yNWx9hE4"
   },
   "source": [
    "# Confusion matrix"
   ]
  },
  {
   "cell_type": "code",
   "execution_count": 37,
   "metadata": {
    "colab": {
     "base_uri": "https://localhost:8080/",
     "height": 582
    },
    "id": "AP1V6SCk9hE5",
    "outputId": "08e41a80-7a4a-4619-8125-ecc371368d19"
   },
   "outputs": [
    {
     "data": {
      "image/png": "[encoded data removed]",
      "text/plain": [
       "<Figure size 504x432 with 2 Axes>"
      ]
     },
     "metadata": {
      "needs_background": "light"
     },
     "output_type": "display_data"
    },
    {
     "name": "stdout",
     "output_type": "stream",
     "text": [
      "Classification Report\n",
      "              precision    recall  f1-score   support\n",
      "\n",
      "           0       0.98      0.92      0.95       401\n",
      "           1       0.82      0.85      0.83       473\n",
      "           2       0.98      0.96      0.97       499\n",
      "           3       0.86      0.99      0.92       464\n",
      "           4       0.97      0.94      0.95       451\n",
      "           5       0.98      0.84      0.90       515\n",
      "           6       0.75      0.98      0.85       482\n",
      "           7       0.75      1.00      0.86       461\n",
      "           8       0.98      0.75      0.85       497\n",
      "           9       1.00      1.00      1.00       408\n",
      "          10       0.99      0.98      0.99       258\n",
      "          11       0.68      0.89      0.77       238\n",
      "          12       0.86      0.31      0.46       257\n",
      "          13       0.96      0.96      0.96       263\n",
      "          14       0.99      0.95      0.97       241\n",
      "          15       0.99      0.42      0.59       252\n",
      "          16       0.99      0.41      0.58       272\n",
      "          17       0.97      0.57      0.72       249\n",
      "          18       0.55      1.00      0.71       220\n",
      "          19       0.94      0.96      0.95       258\n",
      "          20       0.49      0.99      0.65       246\n",
      "          21       1.00      0.47      0.64       257\n",
      "          22       0.78      1.00      0.87       257\n",
      "          23       0.99      0.57      0.72       262\n",
      "          24       1.00      1.00      1.00       233\n",
      "          25       0.64      0.89      0.74       243\n",
      "\n",
      "    accuracy                           0.85      8657\n",
      "   macro avg       0.88      0.83      0.82      8657\n",
      "weighted avg       0.89      0.85      0.84      8657\n",
      "\n"
     ]
    }
   ],
   "source": [
    "import pandas as pd\n",
    "import seaborn as sns\n",
    "import matplotlib.pyplot as plt\n",
    "from sklearn.metrics import confusion_matrix, classification_report\n",
    "\n",
    "def print_confusion_matrix(y_true, y_pred, report=True):\n",
    "    labels = sorted(list(set(y_true)))\n",
    "    cmx_data = confusion_matrix(y_true, y_pred, labels=labels)\n",
    "    \n",
    "    df_cmx = pd.DataFrame(cmx_data, index=labels, columns=labels)\n",
    " \n",
    "    fig, ax = plt.subplots(figsize=(7, 6))\n",
    "    sns.heatmap(df_cmx, annot=True, fmt='g' ,square=False)\n",
    "    ax.set_ylim(len(set(y_true)), 0)\n",
    "    plt.show()\n",
    "    \n",
    "    if report:\n",
    "        print('Classification Report')\n",
    "        print(classification_report(y_test, y_pred))\n",
    "\n",
    "Y_pred = model.predict(X_test)\n",
    "y_pred = np.argmax(Y_pred, axis=1)\n",
    "\n",
    "print_confusion_matrix(y_test, y_pred)"
   ]
  },
  {
   "cell_type": "markdown",
   "metadata": {
    "id": "FNP6aqzc9hE5"
   },
   "source": [
    "# Convert to model for Tensorflow-Lite"
   ]
  },
  {
   "cell_type": "code",
   "execution_count": 38,
   "metadata": {
    "id": "ODjnYyld9hE6"
   },
   "outputs": [],
   "source": [
    "# Save as a model dedicated to inference\n",
    "model.save(model_save_path, include_optimizer=False)"
   ]
  },
  {
   "cell_type": "code",
   "execution_count": 39,
   "metadata": {
    "colab": {
     "base_uri": "https://localhost:8080/"
    },
    "id": "zRfuK8Y59hE6",
    "outputId": "a4ca585c-b5d5-4244-8291-8674063209bb"
   },
   "outputs": [
    {
     "name": "stdout",
     "output_type": "stream",
     "text": [
      "INFO:tensorflow:Assets written to: C:\\Users\\ACER\\AppData\\Local\\Temp\\tmp6d63ezos\\assets\n"
     ]
    },
    {
     "name": "stderr",
     "output_type": "stream",
     "text": [
      "INFO:tensorflow:Assets written to: C:\\Users\\ACER\\AppData\\Local\\Temp\\tmp6d63ezos\\assets\n",
      "WARNING:absl:Buffer deduplication procedure will be skipped when flatbuffer library is not properly loaded\n"
     ]
    },
    {
     "data": {
      "text/plain": [
       "7392"
      ]
     },
     "execution_count": 39,
     "metadata": {},
     "output_type": "execute_result"
    }
   ],
   "source": [
    "# Transform model (quantization)\n",
    "\n",
    "converter = tf.lite.TFLiteConverter.from_keras_model(model)\n",
    "converter.optimizations = [tf.lite.Optimize.DEFAULT]\n",
    "tflite_quantized_model = converter.convert()\n",
    "\n",
    "open(tflite_save_path, 'wb').write(tflite_quantized_model)"
   ]
  },
  {
   "cell_type": "markdown",
   "metadata": {
    "id": "CHBPBXdx9hE6"
   },
   "source": [
    "# Inference test"
   ]
  },
  {
   "cell_type": "code",
   "execution_count": 40,
   "metadata": {
    "id": "mGAzLocO9hE7"
   },
   "outputs": [],
   "source": [
    "interpreter = tf.lite.Interpreter(model_path=tflite_save_path)\n",
    "interpreter.allocate_tensors()"
   ]
  },
  {
   "cell_type": "code",
   "execution_count": 41,
   "metadata": {
    "id": "oQuDK8YS9hE7"
   },
   "outputs": [],
   "source": [
    "# Get I / O tensor\n",
    "input_details = interpreter.get_input_details()\n",
    "output_details = interpreter.get_output_details()"
   ]
  },
  {
   "cell_type": "code",
   "execution_count": 42,
   "metadata": {
    "id": "2_ixAf_l9hE7"
   },
   "outputs": [],
   "source": [
    "interpreter.set_tensor(input_details[0]['index'], np.array([X_test[0]]))"
   ]
  },
  {
   "cell_type": "code",
   "execution_count": 43,
   "metadata": {
    "colab": {
     "base_uri": "https://localhost:8080/"
    },
    "id": "s4FoAnuc9hE7",
    "outputId": "91f18257-8d8b-4ef3-c558-e9b5f94fabbf",
    "scrolled": true
   },
   "outputs": [
    {
     "name": "stdout",
     "output_type": "stream",
     "text": [
      "CPU times: total: 0 ns\n",
      "Wall time: 0 ns\n"
     ]
    }
   ],
   "source": [
    "%%time\n",
    "# Inference implementation\n",
    "interpreter.invoke()\n",
    "tflite_results = interpreter.get_tensor(output_details[0]['index'])"
   ]
  },
  {
   "cell_type": "code",
   "execution_count": 44,
   "metadata": {
    "colab": {
     "base_uri": "https://localhost:8080/"
    },
    "id": "vONjp19J9hE8",
    "outputId": "77205e24-fd00-42c4-f7b6-e06e527c2cba"
   },
   "outputs": [
    {
     "name": "stdout",
     "output_type": "stream",
     "text": [
      "[3.4624211e-06 2.5575617e-01 1.3625730e-03 3.4193651e-04 5.2143000e-03\n",
      " 7.6997183e-02 1.4419191e-05 1.7421682e-05 4.0837303e-06 1.8020361e-05\n",
      " 2.1795936e-06 1.7321120e-09 3.7421921e-04 9.3951567e-06 3.8384693e-04\n",
      " 2.4050737e-06 1.7677352e-04 7.9388265e-03 2.5900675e-04 8.0663802e-11\n",
      " 2.5024582e-04 4.4917356e-06 6.5085709e-01 1.1915093e-05 5.3343139e-09\n",
      " 2.1995245e-08]\n",
      "22\n"
     ]
    }
   ],
   "source": [
    "print(np.squeeze(tflite_results))\n",
    "print(np.argmax(np.squeeze(tflite_results)))"
   ]
  },
  {
   "cell_type": "code",
   "execution_count": null,
   "metadata": {},
   "outputs": [],
   "source": []
  },
  {
   "cell_type": "code",
   "execution_count": null,
   "metadata": {},
   "outputs": [],
   "source": []
  },
  {
   "cell_type": "code",
   "execution_count": null,
   "metadata": {},
   "outputs": [],
   "source": []
  }
 ],
 "metadata": {
  "accelerator": "GPU",
  "colab": {
   "collapsed_sections": [],
   "name": "keypoint_classification_EN.ipynb",
   "provenance": [],
   "toc_visible": true
  },
  "kernelspec": {
   "display_name": "Python 3 (ipykernel)",
   "language": "python",
   "name": "python3"
  },
  "language_info": {
   "codemirror_mode": {
    "name": "ipython",
    "version": 3
   },
   "file_extension": ".py",
   "mimetype": "text/x-python",
   "name": "python",
   "nbconvert_exporter": "python",
   "pygments_lexer": "ipython3",
   "version": "3.9.10"
  }
 },
 "nbformat": 4,
 "nbformat_minor": 1
}
